{
 "cells": [
  {
   "cell_type": "markdown",
   "metadata": {},
   "source": [
    "# Looking up Airport IATA Codes in order to build web requests\n",
    "\n",
    "Need to get the three letter IATA code in order to search flight sites\n",
    "\n",
    "Checkes for the list of countries and then will search in the countries for the relevant cities\n",
    "\n",
    "TODO: Search for close airports"
   ]
  },
  {
   "cell_type": "code",
   "execution_count": 36,
   "metadata": {},
   "outputs": [
    {
     "data": {
      "text/html": [
       "<div>\n",
       "<style scoped>\n",
       "    .dataframe tbody tr th:only-of-type {\n",
       "        vertical-align: middle;\n",
       "    }\n",
       "\n",
       "    .dataframe tbody tr th {\n",
       "        vertical-align: top;\n",
       "    }\n",
       "\n",
       "    .dataframe thead th {\n",
       "        text-align: right;\n",
       "    }\n",
       "</style>\n",
       "<table border=\"1\" class=\"dataframe\">\n",
       "  <thead>\n",
       "    <tr style=\"text-align: right;\">\n",
       "      <th></th>\n",
       "      <th>continent</th>\n",
       "      <th>iso_country</th>\n",
       "      <th>city</th>\n",
       "      <th>iata_code</th>\n",
       "      <th>country</th>\n",
       "    </tr>\n",
       "  </thead>\n",
       "  <tbody>\n",
       "    <tr>\n",
       "      <th>1379</th>\n",
       "      <td>EU</td>\n",
       "      <td>GB</td>\n",
       "      <td>Bristol</td>\n",
       "      <td>BRS</td>\n",
       "      <td>United Kingdom</td>\n",
       "    </tr>\n",
       "  </tbody>\n",
       "</table>\n",
       "</div>"
      ],
      "text/plain": [
       "     continent iso_country     city iata_code         country\n",
       "1379        EU          GB  Bristol       BRS  United Kingdom"
      ]
     },
     "metadata": {},
     "output_type": "display_data"
    }
   ],
   "source": [
    "import pandas as pd\n",
    "\n",
    "df = pd.read_csv('../data/airport-codes-minimal.csv')\n",
    "\n",
    "display(df[df['iata_code'] == \"BRS\"])"
   ]
  },
  {
   "cell_type": "code",
   "execution_count": 37,
   "metadata": {},
   "outputs": [],
   "source": [
    "countries_visiting = ['United Kingdom', 'Thailand', 'India', 'Nepal']\n",
    "cities_visiting = ['Manchester', 'Bangkok', 'Mumbai', 'New Delhi']"
   ]
  },
  {
   "cell_type": "code",
   "execution_count": 38,
   "metadata": {},
   "outputs": [],
   "source": [
    "def lookup_airport_code_from_countries(df, countries) -> pd.DataFrame:\n",
    "    # Filter the DataFrame to include only the specified countries\n",
    "    airport_codes = df[df['country'].isin(countries)]\n",
    "    # Return the final DataFrame with country, city (municipality), and airport code (iata_code)\n",
    "    airport_codes = airport_codes[['country', 'city', 'iata_code']].reset_index(drop=True)\n",
    "    return airport_codes\n",
    "\n",
    "\n",
    "def lookup_airport_code_from_cities(df, cities) -> pd.DataFrame:\n",
    "    # Filter the DataFrame to include only the specified cities\n",
    "    airport_codes = df[df['city'].isin(cities)]\n",
    "    # Return the final DataFrame with country, city (municipality), and airport code (iata_code)\n",
    "    airport_codes = airport_codes[['country', 'city', 'iata_code']].reset_index(drop=True)\n",
    "    return airport_codes\n",
    "\n",
    "\n",
    "# TODO\n",
    "def search_for_nearby_airports(df, cities) -> pd.DataFrame:\n",
    "    # TODO: Using the co-ords can we search for a ~50 mile radius\n",
    "    #       to find nearby airports?\n",
    "    # Currently only have the location of nearby airports, so this\n",
    "    # requires another dataset of all towns and citis with their co-ords...\n",
    "    return df\n",
    "\n",
    "# TODO\n",
    "def did_you_mean(df, search_term) -> str:\n",
    "    # Function that will search the likeness of a word to another\n",
    "    # This can be useful when allowing users to type in their country/city\n",
    "    return search_term"
   ]
  },
  {
   "cell_type": "code",
   "execution_count": 39,
   "metadata": {},
   "outputs": [],
   "source": [
    "countries = lookup_airport_code_from_countries(df, countries_visiting)"
   ]
  },
  {
   "cell_type": "code",
   "execution_count": 40,
   "metadata": {},
   "outputs": [
    {
     "data": {
      "text/html": [
       "<div>\n",
       "<style scoped>\n",
       "    .dataframe tbody tr th:only-of-type {\n",
       "        vertical-align: middle;\n",
       "    }\n",
       "\n",
       "    .dataframe tbody tr th {\n",
       "        vertical-align: top;\n",
       "    }\n",
       "\n",
       "    .dataframe thead th {\n",
       "        text-align: right;\n",
       "    }\n",
       "</style>\n",
       "<table border=\"1\" class=\"dataframe\">\n",
       "  <thead>\n",
       "    <tr style=\"text-align: right;\">\n",
       "      <th></th>\n",
       "      <th>country</th>\n",
       "      <th>city</th>\n",
       "      <th>iata_code</th>\n",
       "    </tr>\n",
       "  </thead>\n",
       "  <tbody>\n",
       "    <tr>\n",
       "      <th>0</th>\n",
       "      <td>United Kingdom</td>\n",
       "      <td>Manchester</td>\n",
       "      <td>MAN</td>\n",
       "    </tr>\n",
       "    <tr>\n",
       "      <th>1</th>\n",
       "      <td>India</td>\n",
       "      <td>Mumbai</td>\n",
       "      <td>BOM</td>\n",
       "    </tr>\n",
       "    <tr>\n",
       "      <th>2</th>\n",
       "      <td>India</td>\n",
       "      <td>New Delhi</td>\n",
       "      <td>DEL</td>\n",
       "    </tr>\n",
       "    <tr>\n",
       "      <th>3</th>\n",
       "      <td>Thailand</td>\n",
       "      <td>Bangkok</td>\n",
       "      <td>DMK</td>\n",
       "    </tr>\n",
       "    <tr>\n",
       "      <th>4</th>\n",
       "      <td>Thailand</td>\n",
       "      <td>Bangkok</td>\n",
       "      <td>BKK</td>\n",
       "    </tr>\n",
       "  </tbody>\n",
       "</table>\n",
       "</div>"
      ],
      "text/plain": [
       "          country        city iata_code\n",
       "0  United Kingdom  Manchester       MAN\n",
       "1           India      Mumbai       BOM\n",
       "2           India   New Delhi       DEL\n",
       "3        Thailand     Bangkok       DMK\n",
       "4        Thailand     Bangkok       BKK"
      ]
     },
     "execution_count": 40,
     "metadata": {},
     "output_type": "execute_result"
    }
   ],
   "source": [
    "lookup_airport_code_from_cities(countries, cities_visiting)"
   ]
  },
  {
   "cell_type": "code",
   "execution_count": null,
   "metadata": {},
   "outputs": [],
   "source": []
  }
 ],
 "metadata": {
  "kernelspec": {
   "display_name": "base",
   "language": "python",
   "name": "python3"
  },
  "language_info": {
   "codemirror_mode": {
    "name": "ipython",
    "version": 3
   },
   "file_extension": ".py",
   "mimetype": "text/x-python",
   "name": "python",
   "nbconvert_exporter": "python",
   "pygments_lexer": "ipython3",
   "version": "3.8.3"
  }
 },
 "nbformat": 4,
 "nbformat_minor": 2
}
