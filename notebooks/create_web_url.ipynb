{
 "cells": [
  {
   "cell_type": "markdown",
   "metadata": {},
   "source": [
    "# Building a Basic Web Request\n",
    "\n",
    "Using Kayak as a starting point as the URL seems buildable\n",
    "\n",
    "\n",
    "  ------- BASE_URL ----------- {ORGIN-CODE}-{DEST-CODE}/{YYYY-MM-DD}?{QUERY}sort=bestflight_a \n",
    "  \n",
    "https://www.kayak.co.uk/flights/LHR-DEL/2024-11-16?sort=bestflight_a"
   ]
  },
  {
   "cell_type": "code",
   "execution_count": 1,
   "metadata": {},
   "outputs": [],
   "source": [
    "# https://www.kayak.co.uk/flights/LHR-DEL/2024-11-16?sort=price_a\n",
    "\n",
    "# query parameters:\n",
    "# stops: &fs=stops=0 = DIRECT, &fs=stops=-2 = DIRECT OR 1 STOP, &fs=stops=-0 = NOT DIRECT\n",
    "\n",
    "# baggage: &fs=cfc=1 = a CABIN BAG   &fs=bfc=1 = HOLD BAG    &fs=cfc=1;bfc=1 = BOTH BAGS\n",
    "\n",
    "# duration: &fs=legdur=-1200 -DURATION IN MINUTES NO LONGER THAN\n",
    "\n",
    "# take off times: &fs=takeoff=1301,1839 TAKE OFF TIME FROM, TAKE OFF TIME TO\n",
    "\n",
    "# sorting: sort=price_a = CHEAPEST    sort=bestflight_a = BEST FLIGHTS      sort=duration_a = DURATION\n",
    "\n",
    "\n",
    "\n",
    "# https://www.kayak.co.uk/flights/LHR-BKK/2024-10-19/?sort=price_a&fs=cfc=1;takeoff=1200,1600;stops=-2\n",
    "\n",
    "# looks like we need to add ; between the filters and the first one needs the &fs= then the rest ;filter= "
   ]
  },
  {
   "cell_type": "code",
   "execution_count": 139,
   "metadata": {},
   "outputs": [],
   "source": [
    "import datetime\n",
    "\n",
    "today = datetime.date.today()\n",
    "\n",
    "tomorrow = str(today + datetime.timedelta(days=1))\n",
    "week = str(today + datetime.timedelta(days=7))\n",
    "month = str(today + datetime.timedelta(days=31))"
   ]
  },
  {
   "cell_type": "code",
   "execution_count": 184,
   "metadata": {},
   "outputs": [],
   "source": [
    "def get_stops(stops) -> str:\n",
    "    if stops == 'one':\n",
    "        return 'stops=-2'\n",
    "    elif stops == 'direct':\n",
    "        return 'stops=0'\n",
    "    elif stops == 'any':\n",
    "        return ''\n",
    "    else: \n",
    "        raise ValueError(\"stops should be either: any, one, direct\")\n",
    "    \n",
    "\n",
    "def get_baggage(cabin_bag=False, hold_bag=False) -> str:\n",
    "    if cabin_bag and hold_bag:\n",
    "        return 'cfc=1;bfc=1'\n",
    "    elif cabin_bag:\n",
    "        return 'cfc=1'\n",
    "    elif hold_bag:\n",
    "        return 'bfc=1'\n",
    "    else: \n",
    "        return ''\n",
    "\n",
    "\n",
    "def get_max_duration(max_duration=None) -> str:\n",
    "    if max_duration:\n",
    "        return f'legdur=-{max_duration*60}'\n",
    "    else:\n",
    "        return ''\n",
    "    \n",
    "\n",
    "def get_take_off_time(take_off) -> str:\n",
    "    if take_off == None: \n",
    "        return ''\n",
    "    elif len(take_off) == 2: \n",
    "        return f'takeoff={take_off[0]},{take_off[1]}'\n",
    "    else:\n",
    "        raise ValueError(\"Take off duration should be list of take off times: [0700, 2300]\")\n",
    "    \n",
    "\n",
    "# Loop through any filters present\n",
    "# Apply each function to its corresponding parameters\n",
    "def append_search_filters(function_map):\n",
    "    result = \"\"\n",
    "    for func, params in function_map.items():\n",
    "        if params is None:\n",
    "            # Skip the function if params are None\n",
    "            continue\n",
    "        elif isinstance(params, tuple):\n",
    "            # Ensure params is a tuple before unpacking\n",
    "            output = func(*params)\n",
    "        else:\n",
    "            # Handle single parameter case\n",
    "            output = func(params)\n",
    "\n",
    "        # Append non-empty outputs\n",
    "        if output != '':\n",
    "            result += f'{output};'\n",
    "    \n",
    "    return result"
   ]
  },
  {
   "cell_type": "code",
   "execution_count": 187,
   "metadata": {},
   "outputs": [],
   "source": [
    "BASE_URL = 'https://www.kayak.co.uk/flights'\n",
    "SORTING = 'sort=price_a'\n",
    "origin_code = 'MAN'\n",
    "dest_code = 'GVA'"
   ]
  },
  {
   "cell_type": "markdown",
   "metadata": {},
   "source": [
    "Example of a restrictive search"
   ]
  },
  {
   "cell_type": "code",
   "execution_count": 181,
   "metadata": {},
   "outputs": [],
   "source": [
    "stops = 'direct' # or: one, direct\n",
    "cabin_bag = False # or: True\n",
    "hold_bag = False # or: True\n",
    "max_duration = 3 # maximum number of hours\n",
    "take_off = ['0600', '1300']"
   ]
  },
  {
   "cell_type": "markdown",
   "metadata": {},
   "source": [
    "As this is to be used to find cheap flights more likely the search should look like"
   ]
  },
  {
   "cell_type": "code",
   "execution_count": 169,
   "metadata": {},
   "outputs": [],
   "source": [
    "stops = 'any' # or: one, direct\n",
    "cabin_bag = False # or: True\n",
    "hold_bag = False # or: True\n",
    "max_duration = None  # maximum number of hours\n",
    "take_off = None"
   ]
  },
  {
   "cell_type": "code",
   "execution_count": 182,
   "metadata": {},
   "outputs": [],
   "source": [
    "# Dictionary of functions and their corresponding parameters\n",
    "# Needs to be in this order for KAYAK\n",
    "# TODO: Ensure the order is correct. Without the correct order it doesnt work\n",
    "function_map = {\n",
    "    get_baggage: (cabin_bag, hold_bag),\n",
    "    get_take_off_time: take_off,\n",
    "    get_stops: stops,\n",
    "    get_max_duration: max_duration,\n",
    "}\n",
    "\n",
    "filters = append_search_filters(function_map)"
   ]
  },
  {
   "cell_type": "code",
   "execution_count": 188,
   "metadata": {},
   "outputs": [],
   "source": [
    "url = f\"{BASE_URL}/{origin_code}-{dest_code}/{tomorrow}/?{SORTING}&fs={filters}\""
   ]
  },
  {
   "cell_type": "code",
   "execution_count": 189,
   "metadata": {},
   "outputs": [
    {
     "data": {
      "text/plain": [
       "'https://www.kayak.co.uk/flights/MAN-GVA/2024-10-19/?sort=price_a&fs=takeoff=0600,1300;stops=0;legdur=-180;'"
      ]
     },
     "execution_count": 189,
     "metadata": {},
     "output_type": "execute_result"
    }
   ],
   "source": [
    "url"
   ]
  },
  {
   "cell_type": "code",
   "execution_count": null,
   "metadata": {},
   "outputs": [],
   "source": []
  }
 ],
 "metadata": {
  "kernelspec": {
   "display_name": "base",
   "language": "python",
   "name": "python3"
  },
  "language_info": {
   "codemirror_mode": {
    "name": "ipython",
    "version": 3
   },
   "file_extension": ".py",
   "mimetype": "text/x-python",
   "name": "python",
   "nbconvert_exporter": "python",
   "pygments_lexer": "ipython3",
   "version": "3.8.3"
  }
 },
 "nbformat": 4,
 "nbformat_minor": 2
}
