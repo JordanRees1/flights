{
 "cells": [
  {
   "cell_type": "markdown",
   "metadata": {},
   "source": [
    "# Beginning to Scrape KAYAK to retrieve flight prices for a URL\n",
    "\n",
    "Searches the web for the following:\n",
    "https://www.kayak.co.uk/flights/LHR-DEL/2024-11-16?sort=bestflight_a\n",
    "\n",
    "To return a list of prices"
   ]
  },
  {
   "cell_type": "code",
   "execution_count": null,
   "metadata": {},
   "outputs": [],
   "source": [
    "import pandas as pd\n",
    "from time import sleep\n",
    "from selenium import webdriver\n",
    "from bs4 import BeautifulSoup\n",
    "\n",
    "from selenium.webdriver.common.by import By\n",
    "from selenium.webdriver.common.action_chains import ActionChains\n",
    "from selenium.webdriver.support.ui import WebDriverWait\n",
    "from selenium.webdriver.support import expected_conditions as EC\n",
    "from selenium.webdriver.chrome.options import Options\n"
   ]
  },
  {
   "cell_type": "code",
   "execution_count": null,
   "metadata": {},
   "outputs": [],
   "source": [
    "HTML_POP_UP = 'qMs4-close'\n",
    "HTML_FLIGHT_CARD = 'nrc6-inner'\n",
    "HTML_FLIGHT_PRICE ='f8F1-price-text'"
   ]
  },
  {
   "cell_type": "code",
   "execution_count": null,
   "metadata": {},
   "outputs": [],
   "source": [
    "url = 'https://www.kayak.co.uk/flights/MAN-GVA/2024-12-21/?sort=price_a&fs=takeoff=0600,1300;stops=0;legdur=-180;'"
   ]
  },
  {
   "cell_type": "code",
   "execution_count": null,
   "metadata": {},
   "outputs": [],
   "source": [
    "\n",
    "# Set up the Chrome WebDriver (you can use any browser)\n",
    "options = Options()\n",
    "# options.add_argument(\"--headless\")  # Run browser in headless mode (without GUI)\n",
    "driver = webdriver.Chrome()\n",
    "\n",
    "driver.get(url)\n",
    "\n",
    "# Wait until the popup with the close button is visible\n",
    "wait = WebDriverWait(driver, 10)  # Wait for up to 5 seconds\n",
    "\n",
    "popup_close_button = wait.until(\n",
    "    EC.element_to_be_clickable((By.CLASS_NAME, HTML_POP_UP))\n",
    ")\n",
    "# Click the close button to close the popup\n",
    "popup_close_button.click()"
   ]
  },
  {
   "cell_type": "markdown",
   "metadata": {},
   "source": [
    "Scanning In BeautifulSoup\n",
    "\n",
    "extracting only the price"
   ]
  },
  {
   "cell_type": "code",
   "execution_count": null,
   "metadata": {},
   "outputs": [],
   "source": [
    "# # Sample HTML content\n",
    "# html_content = driver.page_source\n",
    "\n",
    "# # Create a BeautifulSoup object\n",
    "# soup = BeautifulSoup(html_content, 'html.parser')\n",
    "\n",
    "# # Extract flight data (replace 'f8F1-price-text' with the actual class you're targeting)\n",
    "# flight_prices = soup.find_all('div', class_='f8F1-price-text')\n",
    "\n",
    "# prices = []\n",
    "\n",
    "# # Iterate through the results and print the flight prices\n",
    "# for price in flight_prices:\n",
    "#     prices.append(price.text.strip()[1:]) \n",
    "    \n",
    "# avg = round(sum(prices) / len(prices),2)\n",
    "# avg"
   ]
  },
  {
   "cell_type": "markdown",
   "metadata": {},
   "source": [
    "Doing it in both\n",
    "\n",
    "And looping through each flight card to get a whole picture of each flight"
   ]
  },
  {
   "cell_type": "code",
   "execution_count": null,
   "metadata": {},
   "outputs": [],
   "source": [
    "# Extract the div elements you're looking for\n",
    "flight_cards = driver.find_elements(By.CLASS_NAME, HTML_FLIGHT_CARD)\n",
    "\n",
    "prices = []\n",
    "\n",
    "for flights in flight_cards:\n",
    "    flightsHTML = flights.get_attribute('outerHTML')\n",
    "    elementSoup = BeautifulSoup(flightsHTML, 'html.parser')\n",
    "    \n",
    "    flight_price = elementSoup.find('div', class_=HTML_FLIGHT_PRICE)\n",
    "    \n",
    "    prices.append(int(flight_price.text.strip()[1:]))"
   ]
  },
  {
   "cell_type": "code",
   "execution_count": null,
   "metadata": {},
   "outputs": [],
   "source": [
    "avg = round(sum(prices) / len(prices),2)\n",
    "avg"
   ]
  },
  {
   "cell_type": "code",
   "execution_count": null,
   "metadata": {},
   "outputs": [],
   "source": []
  }
 ],
 "metadata": {
  "kernelspec": {
   "display_name": ".venv",
   "language": "python",
   "name": "python3"
  },
  "language_info": {
   "codemirror_mode": {
    "name": "ipython",
    "version": 3
   },
   "file_extension": ".py",
   "mimetype": "text/x-python",
   "name": "python",
   "nbconvert_exporter": "python",
   "pygments_lexer": "ipython3",
   "version": "3.13.0"
  }
 },
 "nbformat": 4,
 "nbformat_minor": 2
}
