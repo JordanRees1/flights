{
 "cells": [
  {
   "cell_type": "code",
   "execution_count": 2,
   "metadata": {},
   "outputs": [
    {
     "name": "stdout",
     "output_type": "stream",
     "text": [
      "2 found: [59.0, 49.0]\n",
      "The average flight price is £54.00\n"
     ]
    }
   ],
   "source": [
    "from selenium import webdriver\n",
    "from selenium.webdriver.chrome.options import Options\n",
    "from selenium.webdriver.common.by import By\n",
    "import re\n",
    "import time\n",
    "\n",
    "# Setup headless Chrome browser\n",
    "chrome_options = Options()\n",
    "# chrome_options.add_argument(\"--headless\")  # Run in headless mode\n",
    "chrome_options.add_argument(\"--disable-gpu\")\n",
    "chrome_options.add_argument(\"--window-size=1920,1080\")\n",
    "driver = webdriver.Chrome(options=chrome_options)\n",
    "\n",
    "# Your website URL with search parameters\n",
    "website_url = 'https://www.kayak.co.uk/flights/MAN-GVA/2024-12-21/2024-12-28?sort=bestflight_a'\n",
    "\n",
    "try:\n",
    "    # Navigate to the website\n",
    "    driver.get(website_url)\n",
    "    \n",
    "    # Wait for the flight cards to load\n",
    "    time.sleep(5)  # Adjust the sleep time as necessary\n",
    "    \n",
    "    # Optionally dismiss the cookie popup if it appears\n",
    "    # This depends on the website's HTML structure\n",
    "    try:\n",
    "        accept_cookies_button = driver.find_element(By.XPATH, \"//button[contains(text(), 'Accept')]\")\n",
    "        accept_cookies_button.click()\n",
    "    except:\n",
    "        pass  # If the button isn't found, continue without error\n",
    "    \n",
    "    # Extract all price elements\n",
    "    price_elements = driver.find_elements(By.CLASS_NAME, 'f8F1-price-text')\n",
    "    \n",
    "    prices = []\n",
    "    for elem in price_elements:\n",
    "        price_text = elem.text.strip()\n",
    "        # Use regex to extract numerical value\n",
    "        match = re.search(r'£(\\d+(?:\\.\\d+)?)', price_text)\n",
    "        if match:\n",
    "            price = float(match.group(1))\n",
    "            prices.append(price)\n",
    "\n",
    "    if prices:\n",
    "        average_price = sum(prices) / len(prices)\n",
    "        print(f\"{len(prices)} found: {prices}\")\n",
    "        print(f\"The average flight price is £{average_price:.2f}\")\n",
    "    else:\n",
    "        print(\"No prices were found on the page.\")\n",
    "    \n",
    "finally:\n",
    "    # Close the browser\n",
    "    driver.quit()\n"
   ]
  },
  {
   "cell_type": "code",
   "execution_count": null,
   "metadata": {},
   "outputs": [],
   "source": []
  }
 ],
 "metadata": {
  "kernelspec": {
   "display_name": ".venv",
   "language": "python",
   "name": "python3"
  },
  "language_info": {
   "codemirror_mode": {
    "name": "ipython",
    "version": 3
   },
   "file_extension": ".py",
   "mimetype": "text/x-python",
   "name": "python",
   "nbconvert_exporter": "python",
   "pygments_lexer": "ipython3",
   "version": "3.13.0"
  }
 },
 "nbformat": 4,
 "nbformat_minor": 2
}
